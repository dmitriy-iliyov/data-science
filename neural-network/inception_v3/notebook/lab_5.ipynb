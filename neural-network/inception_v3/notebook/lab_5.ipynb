{
 "cells": [
  {
   "cell_type": "markdown",
   "metadata": {
    "id": "view-in-github",
    "colab_type": "text"
   },
   "source": [
    "<a href=\"https://colab.research.google.com/github/dmitriy-iliyov/data-science/blob/main/neural-network/lab_5/notebook/lab_5.ipynb\" target=\"_parent\"><img src=\"https://colab.research.google.com/assets/colab-badge.svg\" alt=\"Open In Colab\"/></a>"
   ]
  },
  {
   "cell_type": "code",
   "execution_count": null,
   "metadata": {
    "id": "eWvUsFx6Ouof"
   },
   "outputs": [],
   "source": [
    "from google.colab import drive\n",
    "drive.mount('/content/drive')\n",
    "datasets_dir = '/content/drive/MyDrive/data/dogs'"
   ]
  },
  {
   "cell_type": "code",
   "execution_count": null,
   "metadata": {
    "collapsed": true,
    "id": "T284rx7qjljd"
   },
   "outputs": [],
   "source": [
    "import os\n",
    "\n",
    "os.makedirs('/root/.kaggle', exist_ok=True)\n",
    "!cp /content/drive/MyDrive/kaggle.json /root/.kaggle/\n",
    "!chmod 600 /root/.kaggle/kaggle.json\n",
    "\n",
    "paths = [\n",
    "    'jessicali9530/stanford-dogs-dataset',\n",
    "    'khushikhushikhushi/dog-breed-image-dataset',\n",
    "    'yapwh1208/dogs-breed-dataset',\n",
    "    'amandam1/120-dog-breeds-breed-classification',\n",
    "]\n",
    "\n",
    "for path in paths:\n",
    "    dir_name = path.split('/')[1]\n",
    "    current_dir_path = os.path.join(datasets_dir, dir_name)\n",
    "\n",
    "    os.makedirs(current_dir_path, exist_ok=True)\n",
    "\n",
    "    !kaggle datasets download -d {path} -p {current_dir_path}\n",
    "\n",
    "    zip_file_path = os.path.join(current_dir_path, f\"{dir_name}.zip\")\n",
    "    !unzip -q {zip_file_path} -d {current_dir_path}\n",
    "\n",
    "    os.remove(zip_file_path)"
   ]
  },
  {
   "cell_type": "code",
   "execution_count": null,
   "metadata": {
    "id": "94C9UuP8RL0N"
   },
   "outputs": [],
   "source": [
    "import os\n",
    "import shutil\n",
    "\n",
    "datasets_dir = '/content/drive/MyDrive/data/dogs'\n",
    "image_dir = os.path.join(datasets_dir, 'dogs-breed-dataset', 'dog_v1')\n",
    "\n",
    "class_names_list = []\n",
    "class_paths_list = []\n",
    "\n",
    "for filename in os.listdir(image_dir):\n",
    "    file_path = os.path.join(image_dir, filename)\n",
    "    fl = filename.lower()\n",
    "    class_names_list.append(fl)\n",
    "    class_paths_list.append(file_path)\n",
    "\n",
    "class_names_list.sort()\n",
    "class_paths_list.sort()\n",
    "\n",
    "for dir in os.listdir(datasets_dir):\n",
    "    dir_path = os.path.join(datasets_dir, dir)\n",
    "    if os.path.isdir(dir_path) and dir != 'dogs-breed-dataset':\n",
    "        for _class in os.listdir(dir_path):\n",
    "          for class_name in class_names_list:\n",
    "            if class_name in _class.lower():\n",
    "                class_index = class_names_list.index(class_name)\n",
    "                destination_class_path = class_paths_list[class_index]\n",
    "\n",
    "                source_class_path = os.path.join(dir_path, _class)\n",
    "                for item in os.listdir(source_class_path):\n",
    "                    source_path = os.path.join(source_class_path, item)\n",
    "                    destination_path = os.path.join(destination_class_path, item)\n",
    "                    shutil.move(source_path, destination_path)\n",
    "\n",
    "for filename in os.listdir(image_dir):\n",
    "    print(filename + ' ' + str(len(os.listdir(os.path.join(image_dir, filename)))))"
   ]
  },
  {
   "cell_type": "code",
   "execution_count": null,
   "metadata": {
    "id": "gj2asdQYmofy"
   },
   "outputs": [],
   "source": [
    "import tensorflow as tf\n",
    "import os\n",
    "\n",
    "datasets_dir = '/content/drive/MyDrive/data/dogs'\n",
    "image_dir = os.path.join(datasets_dir, 'dogs-breed-dataset', 'dog_v1')\n",
    "\n",
    "width = 224\n",
    "height = 224\n",
    "batch_size = 32\n",
    "\n",
    "train_dataset = tf.keras.utils.image_dataset_from_directory(image_dir,\n",
    "                                                              image_size = (width, height),\n",
    "                                                              batch_size = batch_size,\n",
    "                                                              label_mode=\"categorical\",\n",
    "                                                              validation_split = .15,\n",
    "                                                              subset = 'training',\n",
    "                                                              seed = 341)\n",
    "\n",
    "val_dataset = tf.keras.utils.image_dataset_from_directory (image_dir,\n",
    "                                                             image_size = (width, height),\n",
    "                                                             batch_size = batch_size,\n",
    "                                                             label_mode=\"categorical\",\n",
    "                                                             validation_split = .15,\n",
    "                                                             subset = 'validation',\n",
    "                                                             seed = 341)\n",
    "print(train_dataset.class_names)"
   ]
  },
  {
   "cell_type": "code",
   "execution_count": null,
   "metadata": {
    "collapsed": true,
    "id": "6wc15d6FbjQC"
   },
   "outputs": [],
   "source": [
    "from keras.src.applications.inception_v3 import InceptionV3\n",
    "from tensorflow.keras.models import Model\n",
    "from tensorflow.keras.applications import InceptionV3\n",
    "import time\n",
    "import tensorflow as tf\n",
    "import numpy as np\n",
    "from keras import Sequential, Input\n",
    "from keras.src.layers import GlobalAveragePooling2D, Dense\n",
    "from keras.layers import Conv2D, Flatten, Dense, MaxPooling2D, ZeroPadding2D, Dropout\n",
    "from keras.optimizers import Adam\n",
    "from matplotlib import pyplot as plt\n",
    "\n",
    "\n",
    "class CustomInceptionV3:\n",
    "\n",
    "    def __init__(self, classes_count = 5):\n",
    "        base_model = InceptionV3(weights='imagenet', include_top=False, input_shape=(224, 224, 3))\n",
    "        base_model.trainable = False\n",
    "\n",
    "        x = base_model.output\n",
    "        x = GlobalAveragePooling2D()(x)\n",
    "        x = Dense(1024, activation='relu')(x)\n",
    "        predictions = Dense(classes_count, activation='softmax')(x)\n",
    "        self.model = Model(inputs=base_model.input, outputs=predictions)\n",
    "\n",
    "        self.model.compile(optimizer=tf.keras.optimizers.Adam(learning_rate=1e-4),\n",
    "                      loss='categorical_crossentropy',\n",
    "                      metrics=['accuracy'])\n",
    "\n",
    "        self.store_path = '/content/drive/MyDrive/main/languages/Python/neural_network/labs/lab_5/model'\n",
    "\n",
    "    def fit(self, train_dataset, val_dataset, epochs=90):\n",
    "        start = time.time()\n",
    "        history = self.model.fit(train_dataset, validation_data=val_dataset, epochs=epochs)\n",
    "        execution_time = time.time() - start\n",
    "        self.model.save(self.store_path + '/model.keras')\n",
    "        self.plot_history(history, epochs, execution_time)\n",
    "\n",
    "    def evaluate(self, test_dataset):\n",
    "        test_loss, test_accuracy = self.model.evaluate(test_dataset)\n",
    "        print(f\"Test accuracy: {test_accuracy:.3f}\")\n",
    "\n",
    "    def print(self):\n",
    "        print(self.model.summary())\n",
    "\n",
    "    @staticmethod\n",
    "    def plot_history(history, epochs, execution_time):\n",
    "        plt.figure(figsize=(12, 4))\n",
    "\n",
    "        plt.subplot(1, 2, 1)\n",
    "        plt.plot(range(1, epochs + 1), history.history['accuracy'], label='Training Accuracy')\n",
    "        plt.plot(range(1, epochs + 1), history.history['val_accuracy'], label='Validation Accuracy')\n",
    "        plt.xlabel('Epochs')\n",
    "        plt.ylabel('Accuracy')\n",
    "        plt.title(f'Accuracy (Execution Time: {execution_time:.2f} seconds)')\n",
    "        plt.legend()\n",
    "\n",
    "        plt.subplot(1, 2, 2)\n",
    "        plt.plot(range(1, epochs + 1), history.history['loss'], label='Training Loss')\n",
    "        plt.plot(range(1, epochs + 1), history.history['val_loss'], label='Validation Loss')\n",
    "        plt.xlabel('Epochs')\n",
    "        plt.ylabel('Loss')\n",
    "        plt.title('Loss')\n",
    "        plt.legend()\n",
    "\n",
    "        plt.show()"
   ]
  },
  {
   "cell_type": "code",
   "execution_count": null,
   "metadata": {
    "colab": {
     "base_uri": "https://localhost:8080/",
     "height": 1000
    },
    "id": "1aZx--gUmmKG",
    "outputId": "43049bfe-098e-4dcf-fe92-01c2d97dd4b1"
   },
 "metadata": {
  "colab": {
   "provenance": [],
   "gpuType": "T4",
   "mount_file_id": "1mLm4X1jiiNFD0sAwRaqjX3aca8QJ2MEt",
   "authorship_tag": "ABX9TyOwd3K5ohZAGQfsLXNpOElb",
   "include_colab_link": true
  },
  "kernelspec": {
   "display_name": "Python 3",
   "name": "python3"
  },
  "language_info": {
   "name": "python"
  },
  "accelerator": "GPU"
 },
 "nbformat": 4,
 "nbformat_minor": 0
}
