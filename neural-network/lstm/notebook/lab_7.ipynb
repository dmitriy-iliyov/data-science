{
  "nbformat": 4,
  "nbformat_minor": 0,
  "metadata": {
    "colab": {
      "provenance": [],
      "gpuType": "T4",
      "authorship_tag": "ABX9TyPWSR/4FGLxrL+/gFmYcuZx",
      "include_colab_link": true
    },
    "kernelspec": {
      "name": "python3",
      "display_name": "Python 3"
    },
    "language_info": {
      "name": "python"
    },
    "accelerator": "GPU"
  },
  "cells": [
    {
      "cell_type": "markdown",
      "metadata": {
        "id": "view-in-github",
        "colab_type": "text"
      },
      "source": [
        "<a href=\"https://colab.research.google.com/github/dmitriy-iliyov/data-science/blob/main/neural-network/lstm/notebook/lab_7.ipynb\" target=\"_parent\"><img src=\"https://colab.research.google.com/assets/colab-badge.svg\" alt=\"Open In Colab\"/></a>"
      ]
    },
    {
      "cell_type": "code",
      "source": [
        "from google.colab import drive\n",
        "drive.mount('/content/drive')\n",
        "datasets_dir = '/content/drive/MyDrive/data/reviews'"
      ],
      "metadata": {
        "colab": {
          "base_uri": "https://localhost:8080/"
        },
        "id": "TNL79UeErGoZ",
        "outputId": "697ff3de-dcb5-418c-83eb-839452016735"
      },
      "execution_count": 1,
      "outputs": [
        {
          "output_type": "stream",
          "name": "stdout",
          "text": [
            "Drive already mounted at /content/drive; to attempt to forcibly remount, call drive.mount(\"/content/drive\", force_remount=True).\n"
          ]
        }
      ]
    },
    {
      "cell_type": "code",
      "execution_count": null,
      "metadata": {
        "id": "t7ScdAKRTmh6"
      },
      "outputs": [],
      "source": [
        "import os\n",
        "\n",
        "os.makedirs('/root/.kaggle', exist_ok=True)\n",
        "!cp /content/drive/MyDrive/kaggle.json /root/.kaggle/\n",
        "!chmod 600 /root/.kaggle/kaggle.json\n",
        "\n",
        "path = \"yelp-dataset/yelp-dataset\"\n",
        "\n",
        "dir_name = path.split('/')[1]\n",
        "current_dir_path = os.path.join(datasets_dir, dir_name)\n",
        "\n",
        "os.makedirs(current_dir_path, exist_ok=True)\n",
        "\n",
        "!kaggle datasets download -d {path} -p {current_dir_path}\n",
        "\n",
        "zip_file_path = os.path.join(current_dir_path, f\"{dir_name}.zip\")\n",
        "!unzip -q {zip_file_path} -d {current_dir_path}\n",
        "\n",
        "os.remove(zip_file_path)"
      ]
    },
    {
      "cell_type": "code",
      "source": [
        "import json\n",
        "\n",
        "def read_data(d):\n",
        "  reviews = []\n",
        "  stars = []\n",
        "  with open(datasets_dir + '/yelp-dataset/yelp_academic_dataset_review.json', encoding='utf-8') as file:\n",
        "    count = 0\n",
        "    for line in file:\n",
        "      jsoned_line = json.loads(line)\n",
        "      reviews.append(jsoned_line['text'])\n",
        "      stars.append(jsoned_line['stars'])\n",
        "      count += 1\n",
        "      if count >= d:\n",
        "        break\n",
        "  return reviews, stars\n"
      ],
      "metadata": {
        "id": "3XC3vAmFsQEz"
      },
      "execution_count": 2,
      "outputs": []
    },
    {
      "cell_type": "code",
      "source": [
        "import re\n",
        "import numpy as np\n",
        "import pandas as pd\n",
        "import nltk\n",
        "from nltk import *\n",
        "from nltk.corpus import stopwords\n",
        "\n",
        "\n",
        "nltk.download('stopwords')\n",
        "\n",
        "\n",
        "def _start_pre_processing(doc):\n",
        "    doc = re.sub(r'http[s]?://\\S+|www\\.\\S+', '', doc)\n",
        "    doc = re.sub(r'[^a-zA-Z\\s]', '', doc, re.I | re.A)\n",
        "    doc = doc.lower()\n",
        "    doc = doc.strip()\n",
        "    wpt = WordPunctTokenizer()\n",
        "    tokens = wpt.tokenize(doc)\n",
        "    custom_stopwords = set(stopwords.words('english')) - {\n",
        "    'not', 'very', 'never', 'no', 'nothing', 'more', 'less', 'good', 'great', 'happy',\n",
        "    'excellent', 'amazing', 'bad', 'horrible', 'sad', 'angry', 'worse', 'could', 'should',\n",
        "    'would', 'might', 'may', 'absolutely', 'completely', 'totally', 'think', 'opinion'\n",
        "    }\n",
        "    filtered_tokens = [token for token in tokens if token not in custom_stopwords]\n",
        "    doc = ' '.join(filtered_tokens)\n",
        "    return doc\n",
        "\n",
        "\n",
        "def _str_pre_processing(_str):\n",
        "    sentences = _str.split('.')\n",
        "    prepared_corpus = [_start_pre_processing(sentence) for sentence in sentences]\n",
        "    prepared_corpus = ' '.join(list(filter(None, prepared_corpus)))\n",
        "    return prepared_corpus\n",
        "\n",
        "\n",
        "def do_pre_processing(doc):\n",
        "    if isinstance(doc, str):\n",
        "        return _str_pre_processing(doc)\n",
        "    else:\n",
        "        print(\"ERROR:   TextPreProcessor can't prepare this type of data.\")\n",
        "        return None"
      ],
      "metadata": {
        "colab": {
          "base_uri": "https://localhost:8080/"
        },
        "id": "FSBRDnlb1Va-",
        "outputId": "f68cd6f5-2090-4bf4-81db-f7d21a7ff814"
      },
      "execution_count": 3,
      "outputs": [
        {
          "output_type": "stream",
          "name": "stderr",
          "text": [
            "[nltk_data] Downloading package stopwords to /root/nltk_data...\n",
            "[nltk_data]   Package stopwords is already up-to-date!\n"
          ]
        }
      ]
    },
    {
      "cell_type": "code",
      "source": [
        "import numpy as np\n",
        "from sklearn.feature_extraction.text import CountVectorizer, TfidfVectorizer\n",
        "from sklearn.preprocessing import OneHotEncoder\n",
        "from keras.preprocessing.sequence import pad_sequences\n",
        "from tensorflow.keras.models import Sequential\n",
        "from tensorflow.keras.layers import Dense, LSTM, Input\n",
        "from keras.initializers import Constant\n",
        "from tensorflow.keras.preprocessing.text import Tokenizer\n",
        "from sklearn.utils import resample\n",
        "from sklearn.utils import shuffle\n",
        "\n",
        "\n",
        "\n",
        "def prepare_reviews(reviews, max_text_len, pre_processing):\n",
        "    num_words = 10000\n",
        "    if(pre_processing):\n",
        "        reviews = [do_pre_processing(review) for review in reviews]\n",
        "\n",
        "    tokenizer = Tokenizer(num_words=num_words)\n",
        "    tokenizer.fit_on_texts(reviews)\n",
        "    reviews = tokenizer.texts_to_sequences(reviews)\n",
        "    print(f'rewiev example: {reviews[0]}')\n",
        "\n",
        "    reviews = pad_sequences(reviews, maxlen=max_text_len)\n",
        "\n",
        "    return reviews, num_words\n",
        "\n",
        "\n",
        "def prepare_stars(stars):\n",
        "    stars = np.array(stars)\n",
        "    stars = stars.reshape(-1, 1)\n",
        "    encoder = OneHotEncoder()\n",
        "    stars = encoder.fit_transform(stars).toarray()\n",
        "    stars = np.array(stars).astype(int)\n",
        "    print(f'star example: {stars[0]}')\n",
        "    return stars\n",
        "\n",
        "\n",
        "def downsampling(reviews, stars):\n",
        "    reviews = np.array(reviews)\n",
        "    stars = np.array(stars).astype(int)\n",
        "\n",
        "    class_counts = np.bincount(stars)[1:]\n",
        "    min_count = np.min(class_counts)\n",
        "    print(f'class counts before downsampling: {class_counts}')\n",
        "\n",
        "    balanced_reviews = []\n",
        "    balanced_stars = []\n",
        "\n",
        "    for star in np.unique(stars):\n",
        "      class_reviews = reviews[stars == star]\n",
        "      class_stars = stars[stars == star]\n",
        "\n",
        "      if len(class_reviews) > min_count:\n",
        "          class_reviews_resampled, class_stars_resampled = resample(class_reviews,\n",
        "                                                                    class_stars,\n",
        "                                                                    replace=False,\n",
        "                                                                    n_samples=min_count,\n",
        "                                                                    random_state=42)\n",
        "          balanced_reviews.extend(class_reviews_resampled)\n",
        "          balanced_stars.extend(class_stars_resampled)\n",
        "      else:\n",
        "          balanced_reviews.extend(class_reviews)\n",
        "          balanced_stars.extend(class_stars)\n",
        "\n",
        "    balanced_reviews = np.array(balanced_reviews)\n",
        "    balanced_stars = np.array(balanced_stars)\n",
        "\n",
        "    class_counts = np.bincount(balanced_stars)[1:]\n",
        "    print(f'class counts after downsampling: {class_counts}')\n",
        "\n",
        "    balanced_reviews, balanced_stars = shuffle(balanced_reviews, balanced_stars, random_state=42)\n",
        "\n",
        "    return balanced_reviews, balanced_stars\n",
        "\n",
        "\n",
        "def prepare_data(d, k, max_text_len, pre_processing = True):\n",
        "\n",
        "    reviews, stars = read_data(d)\n",
        "\n",
        "    reviews, stars = downsampling(reviews, stars)\n",
        "\n",
        "    reviews, word_count = prepare_reviews(reviews, max_text_len, pre_processing)\n",
        "    print(f'reviews count: {len(reviews)}')\n",
        "\n",
        "    stars = prepare_stars(stars)\n",
        "\n",
        "\n",
        "    index = int(k * len(reviews))\n",
        "    train_data = reviews[:index]\n",
        "    train_answers = stars[:index]\n",
        "    test_data = reviews[index:]\n",
        "    test_answers = stars[index:]\n",
        "\n",
        "    return train_data, train_answers, test_data, test_answers, word_count\n"
      ],
      "metadata": {
        "id": "qPfyU3PStG7k"
      },
      "execution_count": 4,
      "outputs": []
    },
    {
      "cell_type": "code",
      "source": [
        "import time\n",
        "import tensorflow as tf\n",
        "from keras.callbacks import EarlyStopping\n",
        "from tensorflow.keras.optimizers import Adam\n",
        "from tensorflow.keras import Sequential\n",
        "from tensorflow.keras.layers import Dense, LSTM, Embedding, Input, Dropout\n",
        "from matplotlib import pyplot as plt\n",
        "\n",
        "\n",
        "class KerasLSTM:\n",
        "\n",
        "    def __init__(self, word_count, max_length):\n",
        "        self._model = Sequential([\n",
        "            Input(shape=(max_length,)),\n",
        "            Embedding(input_dim=word_count + 1, output_dim=128, input_length=max_length),\n",
        "            LSTM(128, activation='tanh', return_sequences=True),\n",
        "            #Dropout(0.2),\n",
        "            LSTM(64, activation='tanh', return_sequences=False),\n",
        "            # Dropout(0.2),\n",
        "            Dense(5, activation='softmax')\n",
        "        ])\n",
        "        self._model.compile(optimizer=Adam(learning_rate=0.001), loss='categorical_crossentropy', metrics=['accuracy'])\n",
        "\n",
        "    def summary(self):\n",
        "        self._model.summary()\n",
        "\n",
        "    def fit(self, train_data, train_answers, validation_split=0.1, epochs=100, batch_size=256):\n",
        "        start_time = time.time()\n",
        "        early_stopping = EarlyStopping(\n",
        "            monitor='val_accuracy',\n",
        "            patience=1,\n",
        "            restore_best_weights=True\n",
        "        )\n",
        "        history = self._model.fit(\n",
        "            train_data, train_answers,\n",
        "            epochs=epochs,\n",
        "            batch_size=batch_size,\n",
        "            validation_split=validation_split,\n",
        "            callbacks=[early_stopping]\n",
        "        )\n",
        "        execution_time = time.time() - start_time\n",
        "        print(f\"Training completed in {execution_time:.2f} seconds.\")\n",
        "        self.plot_history(history, execution_time)\n",
        "        self.save()\n",
        "        return history, execution_time\n",
        "\n",
        "    def evaluate(self, test_data, test_answers):\n",
        "        test_loss, test_accuracy = self._model.evaluate(test_data, test_answers, verbose=1)\n",
        "        print(f\"Test Loss: {test_loss}, Test Accuracy: {test_accuracy}\")\n",
        "        return test_loss, test_accuracy\n",
        "\n",
        "    def predict(self, sequence):\n",
        "        return self._model.predict(sequence)\n",
        "\n",
        "    def save(self, path='/content/drive/MyDrive/main/languages/Python/neural_network/labs/lab_7/model/lstm_model.keras'):\n",
        "        self._model.save(path)\n",
        "\n",
        "    @staticmethod\n",
        "    def plot_history(history, execution_time):\n",
        "        epochs = len(history.history['loss'])\n",
        "        plt.figure(figsize=(12, 4))\n",
        "\n",
        "        plt.subplot(1, 2, 1)\n",
        "        plt.plot(range(1, epochs + 1), history.history['accuracy'], label='Training Accuracy')\n",
        "        if 'val_accuracy' in history.history:\n",
        "            plt.plot(range(1, epochs + 1), history.history['val_accuracy'], label='Validation Accuracy')\n",
        "        plt.xlabel('Epochs')\n",
        "        plt.ylabel('Accuracy')\n",
        "        plt.title(f'Accuracy (Execution Time: {execution_time:.2f} seconds)')\n",
        "        plt.legend()\n",
        "\n",
        "        plt.subplot(1, 2, 2)\n",
        "        plt.plot(range(1, epochs + 1), history.history['loss'], label='Training Loss')\n",
        "        if 'val_loss' in history.history:\n",
        "            plt.plot(range(1, epochs + 1), history.history['val_loss'], label='Validation Loss')\n",
        "        plt.xlabel('Epochs')\n",
        "        plt.ylabel('Loss')\n",
        "        plt.title('Loss')\n",
        "        plt.legend()\n",
        "\n",
        "        plt.tight_layout()\n",
        "        plt.show()\n",
        "\n"
      ],
      "metadata": {
        "id": "SNjW-YQGrvyK"
      },
      "execution_count": 5,
      "outputs": []
    },
    {
      "cell_type": "code",
      "source": [
        "with tf.device('/GPU:0'):\n",
        "  reviews_count = 200000\n",
        "  max_length = 200\n",
        "  train_data, train_answers, test_data, test_answers, word_count = prepare_data(reviews_count, 0.8, max_length)\n",
        "\n",
        "  print(f'Vocabulary length: {word_count}')\n",
        "\n",
        "  lstm = KerasLSTM(word_count, max_length)\n",
        "  lstm.summary()\n",
        "\n",
        "  lstm.fit(train_data, train_answers, epochs=20)\n",
        "\n",
        "  count = 20\n",
        "\n",
        "  predicting_data = test_data[:count].copy()\n",
        "  predicting_answers = test_answers[:count].copy().tolist()\n",
        "  test_data = test_data[count:]\n",
        "  test_answers = test_answers[count:]\n",
        "\n",
        "  lstm.evaluate(test_data, test_answers)\n",
        "\n",
        "  for i, data in enumerate(predicting_data):\n",
        "      data = data.reshape(1, -1)\n",
        "      predicted_vec = lstm.predict(data)[0].tolist()\n",
        "      max_val_in_vec = max(predicted_vec)\n",
        "      predicted_val_index = predicted_vec.index(max_val_in_vec)\n",
        "      predicterd_val = predicted_val_index+1\n",
        "      print(f\"real stars: {(predicting_answers[i].index(1)) + 1}; predicted: {predicterd_val}\")"
      ],
      "metadata": {
        "id": "lnnLWD1Xu5p6",
        "colab": {
          "base_uri": "https://localhost:8080/",
          "height": 1000
        },
        "outputId": "425f9731-464c-40b1-82a8-8600af44cc24"
      },
      "execution_count": 7,
      "outputs": [
        {
          "output_type": "stream",
          "name": "stdout",
          "text": [
            "class counts before downsampling: [21922 16116 22648 50383 88931]\n",
            "class counts after downsampling: [16116 16116 16116 16116 16116]\n",
            "rewiev example: [251, 1749, 4, 245, 1, 1288, 7368, 1197, 1749, 1588, 598, 766, 7262, 986, 738, 9170, 999, 1813, 67, 155, 9, 10, 4, 7, 345, 104, 491, 4312, 162]\n",
            "reviews count: 80580\n",
            "star example: [0 1 0 0 0]\n",
            "Vocabulary length: 10000\n"
          ]
        },
        {
          "output_type": "stream",
          "name": "stderr",
          "text": [
            "/usr/local/lib/python3.10/dist-packages/keras/src/layers/core/embedding.py:90: UserWarning: Argument `input_length` is deprecated. Just remove it.\n",
            "  warnings.warn(\n"
          ]
        },
        {
          "output_type": "display_data",
          "data": {
            "text/plain": [
              "\u001b[1mModel: \"sequential_1\"\u001b[0m\n"
            ],
            "text/html": [
              "<pre style=\"white-space:pre;overflow-x:auto;line-height:normal;font-family:Menlo,'DejaVu Sans Mono',consolas,'Courier New',monospace\"><span style=\"font-weight: bold\">Model: \"sequential_1\"</span>\n",
              "</pre>\n"
            ]
          },
          "metadata": {}
        },
        {
          "output_type": "display_data",
          "data": {
            "text/plain": [
              "┏━━━━━━━━━━━━━━━━━━━━━━━━━━━━━━━━━━━━━━┳━━━━━━━━━━━━━━━━━━━━━━━━━━━━━┳━━━━━━━━━━━━━━━━━┓\n",
              "┃\u001b[1m \u001b[0m\u001b[1mLayer (type)                        \u001b[0m\u001b[1m \u001b[0m┃\u001b[1m \u001b[0m\u001b[1mOutput Shape               \u001b[0m\u001b[1m \u001b[0m┃\u001b[1m \u001b[0m\u001b[1m        Param #\u001b[0m\u001b[1m \u001b[0m┃\n",
              "┡━━━━━━━━━━━━━━━━━━━━━━━━━━━━━━━━━━━━━━╇━━━━━━━━━━━━━━━━━━━━━━━━━━━━━╇━━━━━━━━━━━━━━━━━┩\n",
              "│ embedding_1 (\u001b[38;5;33mEmbedding\u001b[0m)              │ (\u001b[38;5;45mNone\u001b[0m, \u001b[38;5;34m200\u001b[0m, \u001b[38;5;34m128\u001b[0m)            │       \u001b[38;5;34m1,280,128\u001b[0m │\n",
              "├──────────────────────────────────────┼─────────────────────────────┼─────────────────┤\n",
              "│ lstm_2 (\u001b[38;5;33mLSTM\u001b[0m)                        │ (\u001b[38;5;45mNone\u001b[0m, \u001b[38;5;34m200\u001b[0m, \u001b[38;5;34m128\u001b[0m)            │         \u001b[38;5;34m131,584\u001b[0m │\n",
              "├──────────────────────────────────────┼─────────────────────────────┼─────────────────┤\n",
              "│ lstm_3 (\u001b[38;5;33mLSTM\u001b[0m)                        │ (\u001b[38;5;45mNone\u001b[0m, \u001b[38;5;34m64\u001b[0m)                  │          \u001b[38;5;34m49,408\u001b[0m │\n",
              "├──────────────────────────────────────┼─────────────────────────────┼─────────────────┤\n",
              "│ dense_1 (\u001b[38;5;33mDense\u001b[0m)                      │ (\u001b[38;5;45mNone\u001b[0m, \u001b[38;5;34m5\u001b[0m)                   │             \u001b[38;5;34m325\u001b[0m │\n",
              "└──────────────────────────────────────┴─────────────────────────────┴─────────────────┘\n"
            ],
            "text/html": [
              "<pre style=\"white-space:pre;overflow-x:auto;line-height:normal;font-family:Menlo,'DejaVu Sans Mono',consolas,'Courier New',monospace\">┏━━━━━━━━━━━━━━━━━━━━━━━━━━━━━━━━━━━━━━┳━━━━━━━━━━━━━━━━━━━━━━━━━━━━━┳━━━━━━━━━━━━━━━━━┓\n",
              "┃<span style=\"font-weight: bold\"> Layer (type)                         </span>┃<span style=\"font-weight: bold\"> Output Shape                </span>┃<span style=\"font-weight: bold\">         Param # </span>┃\n",
              "┡━━━━━━━━━━━━━━━━━━━━━━━━━━━━━━━━━━━━━━╇━━━━━━━━━━━━━━━━━━━━━━━━━━━━━╇━━━━━━━━━━━━━━━━━┩\n",
              "│ embedding_1 (<span style=\"color: #0087ff; text-decoration-color: #0087ff\">Embedding</span>)              │ (<span style=\"color: #00d7ff; text-decoration-color: #00d7ff\">None</span>, <span style=\"color: #00af00; text-decoration-color: #00af00\">200</span>, <span style=\"color: #00af00; text-decoration-color: #00af00\">128</span>)            │       <span style=\"color: #00af00; text-decoration-color: #00af00\">1,280,128</span> │\n",
              "├──────────────────────────────────────┼─────────────────────────────┼─────────────────┤\n",
              "│ lstm_2 (<span style=\"color: #0087ff; text-decoration-color: #0087ff\">LSTM</span>)                        │ (<span style=\"color: #00d7ff; text-decoration-color: #00d7ff\">None</span>, <span style=\"color: #00af00; text-decoration-color: #00af00\">200</span>, <span style=\"color: #00af00; text-decoration-color: #00af00\">128</span>)            │         <span style=\"color: #00af00; text-decoration-color: #00af00\">131,584</span> │\n",
              "├──────────────────────────────────────┼─────────────────────────────┼─────────────────┤\n",
              "│ lstm_3 (<span style=\"color: #0087ff; text-decoration-color: #0087ff\">LSTM</span>)                        │ (<span style=\"color: #00d7ff; text-decoration-color: #00d7ff\">None</span>, <span style=\"color: #00af00; text-decoration-color: #00af00\">64</span>)                  │          <span style=\"color: #00af00; text-decoration-color: #00af00\">49,408</span> │\n",
              "├──────────────────────────────────────┼─────────────────────────────┼─────────────────┤\n",
              "│ dense_1 (<span style=\"color: #0087ff; text-decoration-color: #0087ff\">Dense</span>)                      │ (<span style=\"color: #00d7ff; text-decoration-color: #00d7ff\">None</span>, <span style=\"color: #00af00; text-decoration-color: #00af00\">5</span>)                   │             <span style=\"color: #00af00; text-decoration-color: #00af00\">325</span> │\n",
              "└──────────────────────────────────────┴─────────────────────────────┴─────────────────┘\n",
              "</pre>\n"
            ]
          },
          "metadata": {}
        },
        {
          "output_type": "display_data",
          "data": {
            "text/plain": [
              "\u001b[1m Total params: \u001b[0m\u001b[38;5;34m1,461,445\u001b[0m (5.57 MB)\n"
            ],
            "text/html": [
              "<pre style=\"white-space:pre;overflow-x:auto;line-height:normal;font-family:Menlo,'DejaVu Sans Mono',consolas,'Courier New',monospace\"><span style=\"font-weight: bold\"> Total params: </span><span style=\"color: #00af00; text-decoration-color: #00af00\">1,461,445</span> (5.57 MB)\n",
              "</pre>\n"
            ]
          },
          "metadata": {}
        },
        {
          "output_type": "display_data",
          "data": {
            "text/plain": [
              "\u001b[1m Trainable params: \u001b[0m\u001b[38;5;34m1,461,445\u001b[0m (5.57 MB)\n"
            ],
            "text/html": [
              "<pre style=\"white-space:pre;overflow-x:auto;line-height:normal;font-family:Menlo,'DejaVu Sans Mono',consolas,'Courier New',monospace\"><span style=\"font-weight: bold\"> Trainable params: </span><span style=\"color: #00af00; text-decoration-color: #00af00\">1,461,445</span> (5.57 MB)\n",
              "</pre>\n"
            ]
          },
          "metadata": {}
        },
        {
          "output_type": "display_data",
          "data": {
            "text/plain": [
              "\u001b[1m Non-trainable params: \u001b[0m\u001b[38;5;34m0\u001b[0m (0.00 B)\n"
            ],
            "text/html": [
              "<pre style=\"white-space:pre;overflow-x:auto;line-height:normal;font-family:Menlo,'DejaVu Sans Mono',consolas,'Courier New',monospace\"><span style=\"font-weight: bold\"> Non-trainable params: </span><span style=\"color: #00af00; text-decoration-color: #00af00\">0</span> (0.00 B)\n",
              "</pre>\n"
            ]
          },
          "metadata": {}
        },
        {
          "output_type": "stream",
          "name": "stdout",
          "text": [
            "Epoch 1/20\n",
            "\u001b[1m227/227\u001b[0m \u001b[32m━━━━━━━━━━━━━━━━━━━━\u001b[0m\u001b[37m\u001b[0m \u001b[1m11s\u001b[0m 38ms/step - accuracy: 0.4313 - loss: 1.2606 - val_accuracy: 0.5666 - val_loss: 0.9788\n",
            "Epoch 2/20\n",
            "\u001b[1m227/227\u001b[0m \u001b[32m━━━━━━━━━━━━━━━━━━━━\u001b[0m\u001b[37m\u001b[0m \u001b[1m8s\u001b[0m 37ms/step - accuracy: 0.6048 - loss: 0.9037 - val_accuracy: 0.5866 - val_loss: 0.9531\n",
            "Epoch 3/20\n",
            "\u001b[1m227/227\u001b[0m \u001b[32m━━━━━━━━━━━━━━━━━━━━\u001b[0m\u001b[37m\u001b[0m \u001b[1m9s\u001b[0m 37ms/step - accuracy: 0.6373 - loss: 0.8403 - val_accuracy: 0.5823 - val_loss: 0.9671\n",
            "Training completed in 29.74 seconds.\n"
          ]
        },
        {
          "output_type": "display_data",
          "data": {
            "text/plain": [
              "<Figure size 1200x400 with 2 Axes>"
            ],
            "image/png": "[encoded data removed]"
          },
          "metadata": {}
        },
        {
          "output_type": "stream",
          "name": "stdout",
          "text": [
            "\u001b[1m503/503\u001b[0m \u001b[32m━━━━━━━━━━━━━━━━━━━━\u001b[0m\u001b[37m\u001b[0m \u001b[1m4s\u001b[0m 8ms/step - accuracy: 0.5754 - loss: 0.9672\n",
            "Test Loss: 0.9607954621315002, Test Accuracy: 0.5822564363479614\n",
            "\u001b[1m1/1\u001b[0m \u001b[32m━━━━━━━━━━━━━━━━━━━━\u001b[0m\u001b[37m\u001b[0m \u001b[1m0s\u001b[0m 158ms/step\n",
            "real stars: 2; predicted: 2\n",
            "\u001b[1m1/1\u001b[0m \u001b[32m━━━━━━━━━━━━━━━━━━━━\u001b[0m\u001b[37m\u001b[0m \u001b[1m0s\u001b[0m 23ms/step\n",
            "real stars: 3; predicted: 2\n",
            "\u001b[1m1/1\u001b[0m \u001b[32m━━━━━━━━━━━━━━━━━━━━\u001b[0m\u001b[37m\u001b[0m \u001b[1m0s\u001b[0m 20ms/step\n",
            "real stars: 2; predicted: 2\n",
            "\u001b[1m1/1\u001b[0m \u001b[32m━━━━━━━━━━━━━━━━━━━━\u001b[0m\u001b[37m\u001b[0m \u001b[1m0s\u001b[0m 21ms/step\n",
            "real stars: 2; predicted: 2\n",
            "\u001b[1m1/1\u001b[0m \u001b[32m━━━━━━━━━━━━━━━━━━━━\u001b[0m\u001b[37m\u001b[0m \u001b[1m0s\u001b[0m 20ms/step\n",
            "real stars: 3; predicted: 2\n",
            "\u001b[1m1/1\u001b[0m \u001b[32m━━━━━━━━━━━━━━━━━━━━\u001b[0m\u001b[37m\u001b[0m \u001b[1m0s\u001b[0m 21ms/step\n",
            "real stars: 2; predicted: 3\n",
            "\u001b[1m1/1\u001b[0m \u001b[32m━━━━━━━━━━━━━━━━━━━━\u001b[0m\u001b[37m\u001b[0m \u001b[1m0s\u001b[0m 20ms/step\n",
            "real stars: 4; predicted: 4\n",
            "\u001b[1m1/1\u001b[0m \u001b[32m━━━━━━━━━━━━━━━━━━━━\u001b[0m\u001b[37m\u001b[0m \u001b[1m0s\u001b[0m 22ms/step\n",
            "real stars: 4; predicted: 4\n",
            "\u001b[1m1/1\u001b[0m \u001b[32m━━━━━━━━━━━━━━━━━━━━\u001b[0m\u001b[37m\u001b[0m \u001b[1m0s\u001b[0m 21ms/step\n",
            "real stars: 3; predicted: 3\n",
            "\u001b[1m1/1\u001b[0m \u001b[32m━━━━━━━━━━━━━━━━━━━━\u001b[0m\u001b[37m\u001b[0m \u001b[1m0s\u001b[0m 22ms/step\n",
            "real stars: 5; predicted: 5\n",
            "\u001b[1m1/1\u001b[0m \u001b[32m━━━━━━━━━━━━━━━━━━━━\u001b[0m\u001b[37m\u001b[0m \u001b[1m0s\u001b[0m 31ms/step\n",
            "real stars: 5; predicted: 5\n",
            "\u001b[1m1/1\u001b[0m \u001b[32m━━━━━━━━━━━━━━━━━━━━\u001b[0m\u001b[37m\u001b[0m \u001b[1m0s\u001b[0m 22ms/step\n",
            "real stars: 2; predicted: 3\n",
            "\u001b[1m1/1\u001b[0m \u001b[32m━━━━━━━━━━━━━━━━━━━━\u001b[0m\u001b[37m\u001b[0m \u001b[1m0s\u001b[0m 22ms/step\n",
            "real stars: 3; predicted: 3\n",
            "\u001b[1m1/1\u001b[0m \u001b[32m━━━━━━━━━━━━━━━━━━━━\u001b[0m\u001b[37m\u001b[0m \u001b[1m0s\u001b[0m 26ms/step\n",
            "real stars: 5; predicted: 5\n",
            "\u001b[1m1/1\u001b[0m \u001b[32m━━━━━━━━━━━━━━━━━━━━\u001b[0m\u001b[37m\u001b[0m \u001b[1m0s\u001b[0m 21ms/step\n",
            "real stars: 4; predicted: 5\n",
            "\u001b[1m1/1\u001b[0m \u001b[32m━━━━━━━━━━━━━━━━━━━━\u001b[0m\u001b[37m\u001b[0m \u001b[1m0s\u001b[0m 21ms/step\n",
            "real stars: 4; predicted: 4\n",
            "\u001b[1m1/1\u001b[0m \u001b[32m━━━━━━━━━━━━━━━━━━━━\u001b[0m\u001b[37m\u001b[0m \u001b[1m0s\u001b[0m 22ms/step\n",
            "real stars: 1; predicted: 1\n",
            "\u001b[1m1/1\u001b[0m \u001b[32m━━━━━━━━━━━━━━━━━━━━\u001b[0m\u001b[37m\u001b[0m \u001b[1m0s\u001b[0m 22ms/step\n",
            "real stars: 5; predicted: 4\n",
            "\u001b[1m1/1\u001b[0m \u001b[32m━━━━━━━━━━━━━━━━━━━━\u001b[0m\u001b[37m\u001b[0m \u001b[1m0s\u001b[0m 21ms/step\n",
            "real stars: 5; predicted: 4\n",
            "\u001b[1m1/1\u001b[0m \u001b[32m━━━━━━━━━━━━━━━━━━━━\u001b[0m\u001b[37m\u001b[0m \u001b[1m0s\u001b[0m 21ms/step\n",
            "real stars: 4; predicted: 3\n"
          ]
        }
      ]
    }
  ]
}